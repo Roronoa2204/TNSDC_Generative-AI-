{
  "cells": [
    {
      "source": [
        "\n",
        "# IMPORTANT: RUN THIS CELL IN ORDER TO IMPORT YOUR KAGGLE DATA SOURCES\n",
        "# TO THE CORRECT LOCATION (/kaggle/input) IN YOUR NOTEBOOK,\n",
        "# THEN FEEL FREE TO DELETE THIS CELL.\n",
        "# NOTE: THIS NOTEBOOK ENVIRONMENT DIFFERS FROM KAGGLE'S PYTHON\n",
        "# ENVIRONMENT SO THERE MAY BE MISSING LIBRARIES USED BY YOUR\n",
        "# NOTEBOOK.\n",
        "\n",
        "import os\n",
        "import sys\n",
        "from tempfile import NamedTemporaryFile\n",
        "from urllib.request import urlopen\n",
        "from urllib.parse import unquote, urlparse\n",
        "from urllib.error import HTTPError\n",
        "from zipfile import ZipFile\n",
        "import tarfile\n",
        "import shutil\n",
        "\n",
        "CHUNK_SIZE = 40960\n",
        "DATA_SOURCE_MAPPING = 'flight-delays:https%3A%2F%2Fstorage.googleapis.com%2Fkaggle-data-sets%2F810%2F1496%2Fbundle%2Farchive.zip%3FX-Goog-Algorithm%3DGOOG4-RSA-SHA256%26X-Goog-Credential%3Dgcp-kaggle-com%2540kaggle-161607.iam.gserviceaccount.com%252F20240401%252Fauto%252Fstorage%252Fgoog4_request%26X-Goog-Date%3D20240401T160826Z%26X-Goog-Expires%3D259200%26X-Goog-SignedHeaders%3Dhost%26X-Goog-Signature%3D192008a93993f411bf35329642c9c5dbad9e89189506b3e3eb18354267f6a7de33e12ba2da9da3089740bb8a71298abb019e7000cf4aad00ce9a6255d7b8aba4960bb55f626960a6e01200f8875b53ab9bb4f115153f1f1704d27d25278a2167596252a73467d9f9cf34dc6f49d8ce2b79805b43b5a8e9733ea455048007b17a954d37f37ccae859534e7f9fb3e0350c042dcd10659bb7293193251a7f62e6d0f90a5362d3b0819392dea39fa18d3bfab506397bb301bb3b26179c8826e5a363ae2b61d13345cb49116ec1e24df4be582ae37c9561426668dcedd52f580d03315fd69b14ac7f88f3f33466a626eddce4406157753d0567cca5bbb0b010d155b6'\n",
        "\n",
        "KAGGLE_INPUT_PATH='/kaggle/input'\n",
        "KAGGLE_WORKING_PATH='/kaggle/working'\n",
        "KAGGLE_SYMLINK='kaggle'\n",
        "\n",
        "!umount /kaggle/input/ 2> /dev/null\n",
        "shutil.rmtree('/kaggle/input', ignore_errors=True)\n",
        "os.makedirs(KAGGLE_INPUT_PATH, 0o777, exist_ok=True)\n",
        "os.makedirs(KAGGLE_WORKING_PATH, 0o777, exist_ok=True)\n",
        "\n",
        "try:\n",
        "  os.symlink(KAGGLE_INPUT_PATH, os.path.join(\"..\", 'input'), target_is_directory=True)\n",
        "except FileExistsError:\n",
        "  pass\n",
        "try:\n",
        "  os.symlink(KAGGLE_WORKING_PATH, os.path.join(\"..\", 'working'), target_is_directory=True)\n",
        "except FileExistsError:\n",
        "  pass\n",
        "\n",
        "for data_source_mapping in DATA_SOURCE_MAPPING.split(','):\n",
        "    directory, download_url_encoded = data_source_mapping.split(':')\n",
        "    download_url = unquote(download_url_encoded)\n",
        "    filename = urlparse(download_url).path\n",
        "    destination_path = os.path.join(KAGGLE_INPUT_PATH, directory)\n",
        "    try:\n",
        "        with urlopen(download_url) as fileres, NamedTemporaryFile() as tfile:\n",
        "            total_length = fileres.headers['content-length']\n",
        "            print(f'Downloading {directory}, {total_length} bytes compressed')\n",
        "            dl = 0\n",
        "            data = fileres.read(CHUNK_SIZE)\n",
        "            while len(data) > 0:\n",
        "                dl += len(data)\n",
        "                tfile.write(data)\n",
        "                done = int(50 * dl / int(total_length))\n",
        "                sys.stdout.write(f\"\\r[{'=' * done}{' ' * (50-done)}] {dl} bytes downloaded\")\n",
        "                sys.stdout.flush()\n",
        "                data = fileres.read(CHUNK_SIZE)\n",
        "            if filename.endswith('.zip'):\n",
        "              with ZipFile(tfile) as zfile:\n",
        "                zfile.extractall(destination_path)\n",
        "            else:\n",
        "              with tarfile.open(tfile.name) as tarfile:\n",
        "                tarfile.extractall(destination_path)\n",
        "            print(f'\\nDownloaded and uncompressed: {directory}')\n",
        "    except HTTPError as e:\n",
        "        print(f'Failed to load (likely expired) {download_url} to path {destination_path}')\n",
        "        continue\n",
        "    except OSError as e:\n",
        "        print(f'Failed to load {download_url} to path {destination_path}')\n",
        "        continue\n",
        "\n",
        "print('Data source import complete.')\n"
      ],
      "metadata": {
        "id": "qYbu40dKa1Fz"
      },
      "cell_type": "code",
      "outputs": [],
      "execution_count": null
    },
    {
      "metadata": {
        "trusted": true,
        "id": "b_5hf6cza1F0"
      },
      "cell_type": "code",
      "source": [
        "import pandas as pd\n",
        "import numpy as np\n",
        "import matplotlib.pyplot as plt"
      ],
      "execution_count": null,
      "outputs": []
    },
    {
      "metadata": {
        "trusted": true,
        "id": "CWKqY38Ja1F1"
      },
      "cell_type": "code",
      "source": [
        "flights=pd.read_csv(\"../input/flight-delays/flights.csv\")\n",
        "flights.head(10)"
      ],
      "execution_count": null,
      "outputs": []
    },
    {
      "metadata": {
        "trusted": true,
        "id": "Lkgkq8CTa1F1"
      },
      "cell_type": "code",
      "source": [
        "flights.shape"
      ],
      "execution_count": null,
      "outputs": []
    },
    {
      "metadata": {
        "trusted": true,
        "id": "LhnUTAy1a1F1"
      },
      "cell_type": "code",
      "source": [
        "flights.isnull().sum() # Checking how many null values in each column in our data set"
      ],
      "execution_count": null,
      "outputs": []
    },
    {
      "metadata": {
        "trusted": true,
        "id": "hTWHiQuba1F1"
      },
      "cell_type": "code",
      "source": [
        "import seaborn as sns"
      ],
      "execution_count": null,
      "outputs": []
    },
    {
      "metadata": {
        "trusted": true,
        "id": "uh1IhNxla1F2"
      },
      "cell_type": "code",
      "source": [
        "sns.countplot(x=\"CANCELLATION_REASON\",data=flights)"
      ],
      "execution_count": null,
      "outputs": []
    },
    {
      "metadata": {
        "trusted": true,
        "id": "SjArKUoKa1F2"
      },
      "cell_type": "code",
      "source": [
        "#Reason for Cancellation of flight: A - Airline/Carrier; B - Weather; C - National Air System; D - Security\n",
        "#We can observe from graph easily that mostly Whether is responsible for delays of flight."
      ],
      "execution_count": null,
      "outputs": []
    },
    {
      "metadata": {
        "trusted": true,
        "id": "FVMYkT4Va1F2"
      },
      "cell_type": "code",
      "source": [
        "sns.countplot(x=\"MONTH\",hue=\"CANCELLATION_REASON\",data=flights)"
      ],
      "execution_count": null,
      "outputs": []
    },
    {
      "metadata": {
        "trusted": true,
        "id": "7ehiaeoTa1F2"
      },
      "cell_type": "code",
      "source": [
        "flights.isnull().sum()*100/flights.shape[0]"
      ],
      "execution_count": null,
      "outputs": []
    },
    {
      "metadata": {
        "trusted": true,
        "id": "esQDRtxva1F2"
      },
      "cell_type": "code",
      "source": [
        "df_sample=flights"
      ],
      "execution_count": null,
      "outputs": []
    },
    {
      "metadata": {
        "trusted": true,
        "id": "Jptg1Mxha1F3"
      },
      "cell_type": "code",
      "source": [
        "plt.figure(figsize=(10, 10))\n",
        "axis = sns.countplot(x=df_sample['ORIGIN_AIRPORT'], data =df_sample,\n",
        "              order=df_sample['ORIGIN_AIRPORT'].value_counts().iloc[:20].index)\n",
        "axis.set_xticklabels(axis.get_xticklabels(), rotation=90, ha=\"right\")\n",
        "plt.tight_layout()\n",
        "plt.show()"
      ],
      "execution_count": null,
      "outputs": []
    },
    {
      "metadata": {
        "trusted": true,
        "id": "zBRKTuD6a1F3"
      },
      "cell_type": "code",
      "source": [
        "axis = plt.subplots(figsize=(10,14))\n",
        "sns.despine(bottom=True, left=True)\n",
        "# Observations with Scatter Plot\n",
        "sns.stripplot(x=\"ARRIVAL_DELAY\", y=\"AIRLINE\",\n",
        "              data = df_sample, dodge=True, jitter=True\n",
        "            )\n",
        "plt.show()"
      ],
      "execution_count": null,
      "outputs": []
    },
    {
      "metadata": {
        "trusted": true,
        "id": "C8fu8oXLa1F3"
      },
      "cell_type": "code",
      "source": [
        "axis = plt.subplots(figsize=(10,14))\n",
        "Name = df_sample[\"AIRLINE\"].unique()\n",
        "size = df_sample[\"AIRLINE\"].value_counts()\n",
        "plt.pie(size,labels=Name,autopct='%5.0f%%')\n",
        "plt.show()"
      ],
      "execution_count": null,
      "outputs": []
    },
    {
      "metadata": {
        "trusted": true,
        "id": "Q6d8FlFOa1F3"
      },
      "cell_type": "code",
      "source": [
        "axis = plt.subplots(figsize=(20,14))\n",
        "sns.heatmap(df_sample.corr(),annot = True)\n",
        "plt.show()"
      ],
      "execution_count": null,
      "outputs": []
    },
    {
      "metadata": {
        "trusted": true,
        "id": "AkCWbUIMa1F3"
      },
      "cell_type": "code",
      "source": [
        "# Very High Correlation Between Arrival Delay and Departure Delay¶\n",
        "#It shows that maximum of the Arrival Delays are due to the Departure Delays."
      ],
      "execution_count": null,
      "outputs": []
    },
    {
      "metadata": {
        "trusted": true,
        "id": "gcsF3w45a1F3"
      },
      "cell_type": "code",
      "source": [
        "corr=df_sample.corr()\n",
        "corr"
      ],
      "execution_count": null,
      "outputs": []
    },
    {
      "metadata": {
        "trusted": true,
        "id": "ydxT2fz_a1F3"
      },
      "cell_type": "code",
      "source": [
        "varaibles_to_remove=['YEAR','FLIGHT_NUMBER',\n",
        "       'TAIL_NUMBER', 'DEPARTURE_TIME', 'TAXI_OUT',\n",
        "       'WHEELS_OFF', 'ELAPSED_TIME', 'AIR_TIME',\n",
        "       'WHEELS_ON', 'TAXI_IN', 'ARRIVAL_TIME', 'DIVERTED', 'CANCELLED', 'CANCELLATION_REASON',\n",
        "       'AIR_SYSTEM_DELAY', 'SECURITY_DELAY', 'AIRLINE_DELAY',\n",
        "       'LATE_AIRCRAFT_DELAY', 'WEATHER_DELAY']"
      ],
      "execution_count": null,
      "outputs": []
    },
    {
      "metadata": {
        "trusted": true,
        "id": "tcQ1q2cYa1F3"
      },
      "cell_type": "code",
      "source": [
        "flights.drop(varaibles_to_remove,axis=1,inplace=True)"
      ],
      "execution_count": null,
      "outputs": []
    },
    {
      "metadata": {
        "trusted": true,
        "id": "GwBSLdJza1F3"
      },
      "cell_type": "code",
      "source": [
        "flights.columns"
      ],
      "execution_count": null,
      "outputs": []
    },
    {
      "metadata": {
        "trusted": true,
        "id": "kJr5_jdha1F4"
      },
      "cell_type": "code",
      "source": [
        "flights.drop('SCHEDULED_TIME',axis=1,inplace=True)"
      ],
      "execution_count": null,
      "outputs": []
    },
    {
      "metadata": {
        "trusted": true,
        "id": "vFhMlR4wa1F4"
      },
      "cell_type": "code",
      "source": [
        "flights.drop('SCHEDULED_ARRIVAL',axis=1,inplace=True)"
      ],
      "execution_count": null,
      "outputs": []
    },
    {
      "metadata": {
        "trusted": true,
        "id": "o-_Q7UA1a1F4"
      },
      "cell_type": "code",
      "source": [
        "flights.columns"
      ],
      "execution_count": null,
      "outputs": []
    },
    {
      "metadata": {
        "trusted": true,
        "id": "ta_9Mtdca1F4"
      },
      "cell_type": "code",
      "source": [
        "airport=pd.read_csv(\"../input/flight-delays/airports.csv\")"
      ],
      "execution_count": null,
      "outputs": []
    },
    {
      "metadata": {
        "trusted": true,
        "id": "-MDR7iw_a1F4"
      },
      "cell_type": "code",
      "source": [
        "airport.head()"
      ],
      "execution_count": null,
      "outputs": []
    },
    {
      "metadata": {
        "trusted": true,
        "id": "FnIo09nda1F4"
      },
      "cell_type": "code",
      "source": [
        "flights.loc[~flights.ORIGIN_AIRPORT.isin(airport.IATA_CODE.values),'ORIGIN_AIRPORT']='OTHER'\n",
        "flights.loc[~flights.DESTINATION_AIRPORT.isin(airport.IATA_CODE.values),'DESTINATION_AIRPORT']='OTHER'"
      ],
      "execution_count": null,
      "outputs": []
    },
    {
      "metadata": {
        "trusted": true,
        "id": "fpFJWyU_a1F4"
      },
      "cell_type": "code",
      "source": [
        "flights.head()"
      ],
      "execution_count": null,
      "outputs": []
    },
    {
      "metadata": {
        "trusted": true,
        "id": "wFrMIulja1F4"
      },
      "cell_type": "code",
      "source": [
        "flights.ORIGIN_AIRPORT.nunique()"
      ],
      "execution_count": null,
      "outputs": []
    },
    {
      "metadata": {
        "trusted": true,
        "id": "Uqr3lk6Ha1F4"
      },
      "cell_type": "code",
      "source": [
        "flights.DESTINATION_AIRPORT.nunique()"
      ],
      "execution_count": null,
      "outputs": []
    },
    {
      "metadata": {
        "trusted": true,
        "id": "KJg0pw5Ia1F4"
      },
      "cell_type": "code",
      "source": [
        "flights.AIRLINE.nunique()"
      ],
      "execution_count": null,
      "outputs": []
    },
    {
      "metadata": {
        "trusted": true,
        "id": "phyv_4Woa1F4"
      },
      "cell_type": "code",
      "source": [
        "flights.columns"
      ],
      "execution_count": null,
      "outputs": []
    },
    {
      "metadata": {
        "trusted": true,
        "id": "1F2rQjRca1F4"
      },
      "cell_type": "code",
      "source": [
        "flights.shape"
      ],
      "execution_count": null,
      "outputs": []
    },
    {
      "metadata": {
        "trusted": true,
        "id": "bp4Ytz1Ca1F4"
      },
      "cell_type": "code",
      "source": [
        "flights=flights.dropna()"
      ],
      "execution_count": null,
      "outputs": []
    },
    {
      "metadata": {
        "trusted": true,
        "id": "k7KI8yQKa1F5"
      },
      "cell_type": "code",
      "source": [
        "flights.head()"
      ],
      "execution_count": null,
      "outputs": []
    },
    {
      "metadata": {
        "trusted": true,
        "id": "rMlOMQJ8a1F5"
      },
      "cell_type": "code",
      "source": [
        "row_indexes=flights[flights['DAY_OF_WEEK']==1].index"
      ],
      "execution_count": null,
      "outputs": []
    },
    {
      "metadata": {
        "trusted": true,
        "id": "9DHDezuWa1F5"
      },
      "cell_type": "code",
      "source": [
        "flights.loc[row_indexes,'DAY_OF_WEEK']=\"SUNDAY\""
      ],
      "execution_count": null,
      "outputs": []
    },
    {
      "metadata": {
        "trusted": true,
        "id": "Zeeo2Y6_a1F5"
      },
      "cell_type": "code",
      "source": [
        "flights.head(40)"
      ],
      "execution_count": null,
      "outputs": []
    },
    {
      "metadata": {
        "trusted": true,
        "id": "CnSn6oD4a1F5"
      },
      "cell_type": "code",
      "source": [
        "row_indexes=flights[flights['DAY_OF_WEEK']==2].index"
      ],
      "execution_count": null,
      "outputs": []
    },
    {
      "metadata": {
        "trusted": true,
        "id": "v65ZJI22a1F5"
      },
      "cell_type": "code",
      "source": [
        "flights.loc[row_indexes,'DAY_OF_WEEK']=\"MONDAY\""
      ],
      "execution_count": null,
      "outputs": []
    },
    {
      "metadata": {
        "trusted": true,
        "id": "WjnLACsha1F9"
      },
      "cell_type": "code",
      "source": [
        "row_indexes=flights[flights['DAY_OF_WEEK']==3].index"
      ],
      "execution_count": null,
      "outputs": []
    },
    {
      "metadata": {
        "trusted": true,
        "id": "GPXjt3ola1F9"
      },
      "cell_type": "code",
      "source": [
        "flights.loc[row_indexes,'DAY_OF_WEEK']=\"TUESDAY\""
      ],
      "execution_count": null,
      "outputs": []
    },
    {
      "metadata": {
        "trusted": true,
        "id": "qOGMqwHWa1F9"
      },
      "cell_type": "code",
      "source": [
        "row_indexes=flights[flights['DAY_OF_WEEK']==4].index"
      ],
      "execution_count": null,
      "outputs": []
    },
    {
      "metadata": {
        "trusted": true,
        "id": "58cIOhWKa1F9"
      },
      "cell_type": "code",
      "source": [
        "flights.loc[row_indexes,'DAY_OF_WEEK']=\"WEDNESDAY\""
      ],
      "execution_count": null,
      "outputs": []
    },
    {
      "metadata": {
        "trusted": true,
        "id": "sYnDL4M8a1F9"
      },
      "cell_type": "code",
      "source": [
        "row_indexes=flights[flights['DAY_OF_WEEK']==5].index"
      ],
      "execution_count": null,
      "outputs": []
    },
    {
      "metadata": {
        "trusted": true,
        "id": "bHj-0Dxqa1F9"
      },
      "cell_type": "code",
      "source": [
        "flights.loc[row_indexes,'DAY_OF_WEEK']=\"THRUSDAY\""
      ],
      "execution_count": null,
      "outputs": []
    },
    {
      "metadata": {
        "trusted": true,
        "id": "ldb4tg7Ka1F9"
      },
      "cell_type": "code",
      "source": [
        "row_indexes=flights[flights['DAY_OF_WEEK']==6].index"
      ],
      "execution_count": null,
      "outputs": []
    },
    {
      "metadata": {
        "trusted": true,
        "id": "KBG0uwvBa1F9"
      },
      "cell_type": "code",
      "source": [
        "flights.loc[row_indexes,'DAY_OF_WEEK']=\"FRIDAY\""
      ],
      "execution_count": null,
      "outputs": []
    },
    {
      "metadata": {
        "trusted": true,
        "id": "LcVHHPDQa1F9"
      },
      "cell_type": "code",
      "source": [
        "row_indexes=flights[flights['DAY_OF_WEEK']==7].index"
      ],
      "execution_count": null,
      "outputs": []
    },
    {
      "metadata": {
        "trusted": true,
        "id": "J09KkMF2a1F-"
      },
      "cell_type": "code",
      "source": [
        "flights.loc[row_indexes,'DAY_OF_WEEK']=\"SATURDAY\""
      ],
      "execution_count": null,
      "outputs": []
    },
    {
      "metadata": {
        "trusted": true,
        "id": "JQZQvHOfa1F-"
      },
      "cell_type": "code",
      "source": [
        "flights.head(40)"
      ],
      "execution_count": null,
      "outputs": []
    },
    {
      "metadata": {
        "trusted": true,
        "id": "bcvukOmTa1F-"
      },
      "cell_type": "code",
      "source": [
        "dd=pd.DataFrame(flights)"
      ],
      "execution_count": null,
      "outputs": []
    },
    {
      "metadata": {
        "trusted": true,
        "id": "ZHIF9yAya1F-"
      },
      "cell_type": "code",
      "source": [
        "dums = ['AIRLINE','ORIGIN_AIRPORT','DESTINATION_AIRPORT','DAY_OF_WEEK']"
      ],
      "execution_count": null,
      "outputs": []
    },
    {
      "metadata": {
        "trusted": true,
        "id": "HlpSqGFja1F-"
      },
      "cell_type": "code",
      "source": [
        "df_cat=pd.get_dummies(dd[dums],drop_first=True)"
      ],
      "execution_count": null,
      "outputs": []
    },
    {
      "metadata": {
        "trusted": true,
        "id": "FjKI2YMSa1F-"
      },
      "cell_type": "code",
      "source": [
        "df_cat.columns"
      ],
      "execution_count": null,
      "outputs": []
    },
    {
      "metadata": {
        "trusted": true,
        "id": "64QaJjG9a1F-"
      },
      "cell_type": "code",
      "source": [
        "dd.columns"
      ],
      "execution_count": null,
      "outputs": []
    },
    {
      "metadata": {
        "trusted": true,
        "id": "4RHWpyRla1F-"
      },
      "cell_type": "code",
      "source": [
        "dd.drop(\"AIRLINE\",axis=1,inplace=True)"
      ],
      "execution_count": null,
      "outputs": []
    },
    {
      "metadata": {
        "trusted": true,
        "id": "ND5_NUjna1F-"
      },
      "cell_type": "code",
      "source": [
        "dd.drop(\"ORIGIN_AIRPORT\",axis=1,inplace=True)"
      ],
      "execution_count": null,
      "outputs": []
    },
    {
      "metadata": {
        "trusted": true,
        "id": "IzH_ZDr_a1F-"
      },
      "cell_type": "code",
      "source": [
        "dd.drop(\"DESTINATION_AIRPORT\",axis=1,inplace=True)"
      ],
      "execution_count": null,
      "outputs": []
    },
    {
      "metadata": {
        "trusted": true,
        "id": "c-LtavO9a1F_"
      },
      "cell_type": "code",
      "source": [
        "dd.drop(\"DAY_OF_WEEK\",axis=1,inplace=True)"
      ],
      "execution_count": null,
      "outputs": []
    },
    {
      "metadata": {
        "trusted": true,
        "id": "r9ofOxGXa1F_"
      },
      "cell_type": "code",
      "source": [
        "import pandas as pd"
      ],
      "execution_count": null,
      "outputs": []
    },
    {
      "metadata": {
        "trusted": true,
        "id": "-Wu7KEo5a1F_"
      },
      "cell_type": "code",
      "source": [
        "df=pd.concat([dd,df_cat],axis=1)"
      ],
      "execution_count": null,
      "outputs": []
    },
    {
      "metadata": {
        "trusted": true,
        "id": "K5ILURapa1F_"
      },
      "cell_type": "code",
      "source": [
        "df.shape"
      ],
      "execution_count": null,
      "outputs": []
    },
    {
      "metadata": {
        "trusted": true,
        "id": "zeXy4kcTa1F_"
      },
      "cell_type": "code",
      "source": [
        "df.head(10)"
      ],
      "execution_count": null,
      "outputs": []
    },
    {
      "metadata": {
        "trusted": true,
        "id": "okTes4BEa1F_"
      },
      "cell_type": "code",
      "source": [
        "final_data=df"
      ],
      "execution_count": null,
      "outputs": []
    },
    {
      "metadata": {
        "trusted": true,
        "id": "dIoog4Rwa1F_"
      },
      "cell_type": "code",
      "source": [
        "final_data = final_data.sample(n=100000)"
      ],
      "execution_count": null,
      "outputs": []
    },
    {
      "metadata": {
        "trusted": true,
        "id": "XZ3TH6Tja1F_"
      },
      "cell_type": "code",
      "source": [
        "from sklearn.model_selection import train_test_split\n",
        "from sklearn import metrics"
      ],
      "execution_count": null,
      "outputs": []
    },
    {
      "metadata": {
        "trusted": true,
        "id": "MGcOmHura1F_"
      },
      "cell_type": "code",
      "source": [
        "final_data.head(10)"
      ],
      "execution_count": null,
      "outputs": []
    },
    {
      "metadata": {
        "trusted": true,
        "id": "f56a6DPga1F_"
      },
      "cell_type": "code",
      "source": [
        "X=final_data.drop(\"DEPARTURE_DELAY\",axis=1)\n",
        "Y=final_data.DEPARTURE_DELAY"
      ],
      "execution_count": null,
      "outputs": []
    },
    {
      "metadata": {
        "trusted": true,
        "id": "O2eLNIAda1F_"
      },
      "cell_type": "code",
      "source": [
        "Y"
      ],
      "execution_count": null,
      "outputs": []
    },
    {
      "metadata": {
        "trusted": true,
        "id": "Ut6iXSnda1F_"
      },
      "cell_type": "code",
      "source": [
        "X.head(10)"
      ],
      "execution_count": null,
      "outputs": []
    },
    {
      "metadata": {
        "trusted": true,
        "id": "jZJNiJspa1GA"
      },
      "cell_type": "code",
      "source": [
        "Y.head(10)"
      ],
      "execution_count": null,
      "outputs": []
    },
    {
      "metadata": {
        "trusted": true,
        "id": "-Kgmjv5Xa1GA"
      },
      "cell_type": "code",
      "source": [
        "from sklearn.model_selection import train_test_split, cross_val_score, cross_val_predict\n",
        "X_train, X_test, y_train, y_test = train_test_split(X, Y, test_size=0.2, random_state=0)"
      ],
      "execution_count": null,
      "outputs": []
    },
    {
      "metadata": {
        "trusted": true,
        "id": "AKsyrS0Ia1GA"
      },
      "cell_type": "code",
      "source": [
        "from sklearn.ensemble import RandomForestRegressor\n",
        "reg_rf = RandomForestRegressor()\n",
        "reg_rf.fit(X_train,y_train)"
      ],
      "execution_count": null,
      "outputs": []
    },
    {
      "metadata": {
        "trusted": true,
        "id": "BHDBOwpma1GA"
      },
      "cell_type": "code",
      "source": [
        "y_pred = reg_rf.predict(X_test)"
      ],
      "execution_count": null,
      "outputs": []
    },
    {
      "metadata": {
        "trusted": true,
        "id": "XtU8GY_Ua1GA"
      },
      "cell_type": "code",
      "source": [
        "reg_rf.score(X_train,y_train)"
      ],
      "execution_count": null,
      "outputs": []
    },
    {
      "metadata": {
        "trusted": true,
        "id": "qzTGTO0ea1GA"
      },
      "cell_type": "code",
      "source": [
        "reg_rf.score(X_test,y_test)"
      ],
      "execution_count": null,
      "outputs": []
    },
    {
      "metadata": {
        "trusted": true,
        "id": "CG08vFHFa1GA"
      },
      "cell_type": "code",
      "source": [
        "metrics.r2_score(y_test,y_pred)"
      ],
      "execution_count": null,
      "outputs": []
    },
    {
      "metadata": {
        "trusted": true,
        "id": "ByzB7DwSa1GA"
      },
      "cell_type": "code",
      "source": [
        "print('MAE:', metrics.mean_absolute_error(y_test,y_pred))\n",
        "print('MSE:', metrics.mean_squared_error(y_test,y_pred))\n",
        "print('RMSE:', np.sqrt(metrics.mean_squared_error(y_test,y_pred)))"
      ],
      "execution_count": null,
      "outputs": []
    },
    {
      "metadata": {
        "trusted": true,
        "id": "BmbqK9nla1GA"
      },
      "cell_type": "code",
      "source": [
        "pp=pd.DataFrame({'Actual':y_test,'Predicted':y_pred})\n",
        "pp.head(10)"
      ],
      "execution_count": null,
      "outputs": []
    },
    {
      "metadata": {
        "trusted": true,
        "id": "25wac3Y4a1GA"
      },
      "cell_type": "code",
      "source": [
        "from sklearn.model_selection import RandomizedSearchCV"
      ],
      "execution_count": null,
      "outputs": []
    },
    {
      "metadata": {
        "trusted": true,
        "id": "orNk_Bp4a1GA"
      },
      "cell_type": "code",
      "source": [
        "#Randomized Search CV\n",
        "\n",
        "# Number of trees in random forest\n",
        "n_estimators = [int(x) for x in np.linspace(start = 10, stop = 200, num = 12)]\n",
        "# Number of features to consider at every split\n",
        "max_features = ['auto', 'sqrt']\n",
        "# Maximum number of levels in tree\n",
        "max_depth = [int(x) for x in np.linspace(5, 30, num = 6)]\n",
        "# Minimum number of samples required to split a node\n",
        "min_samples_split = [2, 5, 10, 15, 100]\n",
        "# Minimum number of samples required at each leaf node\n",
        "min_samples_leaf = [1, 2, 5, 10]"
      ],
      "execution_count": null,
      "outputs": []
    },
    {
      "metadata": {
        "trusted": true,
        "id": "bkxE9PbAa1GB"
      },
      "cell_type": "code",
      "source": [
        "# Create the random grid\n",
        "\n",
        "random_grid = {'n_estimators': n_estimators,\n",
        "               'max_features': max_features,\n",
        "               'max_depth': max_depth,\n",
        "               'min_samples_split': min_samples_split,\n",
        "               'min_samples_leaf': min_samples_leaf}"
      ],
      "execution_count": null,
      "outputs": []
    },
    {
      "metadata": {
        "trusted": true,
        "id": "S0RA2cLQa1GC"
      },
      "cell_type": "code",
      "source": [
        "# Random search of parameters, using 5 fold cross validation,\n",
        "# search across 100 different combinations\n",
        "rf_random = RandomizedSearchCV(estimator = reg_rf, param_distributions = random_grid,scoring='neg_mean_squared_error', n_iter = 10, cv = 5, verbose=2, random_state=42, n_jobs = 1)"
      ],
      "execution_count": null,
      "outputs": []
    },
    {
      "metadata": {
        "trusted": true,
        "id": "oCdmjeJOa1GC"
      },
      "cell_type": "code",
      "source": [
        "rf_random.fit(X_train,y_train)"
      ],
      "execution_count": null,
      "outputs": []
    },
    {
      "metadata": {
        "trusted": true,
        "id": "pJj5-HqIa1GD"
      },
      "cell_type": "code",
      "source": [
        "rf_random.best_params_"
      ],
      "execution_count": null,
      "outputs": []
    },
    {
      "metadata": {
        "trusted": true,
        "id": "17elOKzBa1GD"
      },
      "cell_type": "code",
      "source": [
        "p=rf_random.predict(X_test)"
      ],
      "execution_count": null,
      "outputs": []
    },
    {
      "metadata": {
        "trusted": true,
        "id": "Eff8cr2ua1GD"
      },
      "cell_type": "code",
      "source": [
        "metrics.r2_score(y_test,p)"
      ],
      "execution_count": null,
      "outputs": []
    },
    {
      "metadata": {
        "trusted": true,
        "id": "mqJykf7za1GD"
      },
      "cell_type": "code",
      "source": [
        "print('MAE:', metrics.mean_absolute_error(y_test,p))\n",
        "print('MSE:', metrics.mean_squared_error(y_test,p))\n",
        "print('RMSE:', np.sqrt(metrics.mean_squared_error(y_test,p)))"
      ],
      "execution_count": null,
      "outputs": []
    },
    {
      "metadata": {
        "trusted": true,
        "id": "URMVbjSna1GD"
      },
      "cell_type": "code",
      "source": [
        "zz=pd.DataFrame({'Actual':y_test,'Predicted':p})\n",
        "zz.head(30)"
      ],
      "execution_count": null,
      "outputs": []
    },
    {
      "metadata": {
        "id": "17M-_oHna1GD"
      },
      "cell_type": "markdown",
      "source": [
        "Boosting technique applying"
      ]
    },
    {
      "metadata": {
        "trusted": true,
        "id": "G3ecZn46a1GE"
      },
      "cell_type": "code",
      "source": [
        "from sklearn.ensemble import GradientBoostingRegressor"
      ],
      "execution_count": null,
      "outputs": []
    },
    {
      "metadata": {
        "trusted": true,
        "id": "m2mmZPRGa1GE"
      },
      "cell_type": "code",
      "source": [
        "gbr=GradientBoostingRegressor(random_state=0)"
      ],
      "execution_count": null,
      "outputs": []
    },
    {
      "metadata": {
        "trusted": true,
        "id": "CAOVwCI5a1GE"
      },
      "cell_type": "code",
      "source": [
        "GBR=gbr.fit(X_train,y_train)"
      ],
      "execution_count": null,
      "outputs": []
    },
    {
      "metadata": {
        "trusted": true,
        "id": "stIHhbo4a1GE"
      },
      "cell_type": "code",
      "source": [
        "pre =GBR.predict(X_test)"
      ],
      "execution_count": null,
      "outputs": []
    },
    {
      "metadata": {
        "trusted": true,
        "id": "VmeGyw1Ha1GE"
      },
      "cell_type": "code",
      "source": [
        "print('MAE:', metrics.mean_absolute_error(y_test,pre))\n",
        "print('MSE:', metrics.mean_squared_error(y_test,pre))\n",
        "print('RMSE:', np.sqrt(metrics.mean_squared_error(y_test,pre)))"
      ],
      "execution_count": null,
      "outputs": []
    },
    {
      "metadata": {
        "trusted": true,
        "id": "rsPdtAQNa1GF"
      },
      "cell_type": "code",
      "source": [
        "metrics.r2_score(y_test,pre)"
      ],
      "execution_count": null,
      "outputs": []
    },
    {
      "metadata": {
        "trusted": true,
        "id": "Ktf0gAf_a1GF"
      },
      "cell_type": "code",
      "source": [
        "gg=pd.DataFrame({'Actual':y_test,'Predicted':pre})\n",
        "gg.head(20)"
      ],
      "execution_count": null,
      "outputs": []
    },
    {
      "metadata": {
        "trusted": true,
        "id": "lDdcX7eVa1GF"
      },
      "cell_type": "code",
      "source": [
        "def predict(MONTH, DAY,SCHEDULED_DEPARTURE,\n",
        "       DISTANCE, ARRIVAL_DELAY,AIRLINE,ORIGIN_AIRPORT,DESTINATION_AIRPORT,DAY_OF_WEEK):\n",
        "    AIRLINE_index = np.where(X.columns==AIRLINE)[0][0]\n",
        "    ORIGIN_index = np.where(X.columns==ORIGIN_AIRPORT)[0][0]\n",
        "    DESTINATION_index = np.where(X.columns==DESTINATION_AIRPORT)[0][0]\n",
        "    DAY_OF_WEEK_index = np.where(X.columns==DAY_OF_WEEK)[0][0]\n",
        "    x= np.zeros(len(X.columns))\n",
        "    x[0] = MONTH\n",
        "    x[1] = DAY\n",
        "    x[2] = SCHEDULED_DEPARTURE\n",
        "    x[3] = DISTANCE\n",
        "    x[4] = ARRIVAL_DELAY\n",
        "    if AIRLINE_index >=0:\n",
        "        x[AIRLINE_index] = 1\n",
        "    if ORIGIN_index >=0:\n",
        "        x[ORIGIN_index] = 1\n",
        "    if DESTINATION_index >=0:\n",
        "        x[DESTINATION_index] = 1\n",
        "    if  DAY_OF_WEEK_index >= 0:\n",
        "        x[ DAY_OF_WEEK_index] = 1\n",
        "\n",
        "\n",
        "\n",
        "\n",
        "    return gbr.predict([x])[0]"
      ],
      "execution_count": null,
      "outputs": []
    },
    {
      "metadata": {
        "trusted": true,
        "id": "69kT66ORa1GF"
      },
      "cell_type": "code",
      "source": [
        "predict(5,6,1515,328,-8.0,'AIRLINE_OO','ORIGIN_AIRPORT_PHX','DESTINATION_AIRPORT_ABQ','DAY_OF_WEEK_TUESDAY')"
      ],
      "execution_count": null,
      "outputs": []
    },
    {
      "metadata": {
        "trusted": true,
        "id": "Kq3hwC3wa1GF"
      },
      "cell_type": "code",
      "source": [],
      "execution_count": null,
      "outputs": []
    }
  ],
  "metadata": {
    "kernelspec": {
      "language": "python",
      "display_name": "Python 3",
      "name": "python3"
    },
    "language_info": {
      "pygments_lexer": "ipython3",
      "nbconvert_exporter": "python",
      "version": "3.6.4",
      "file_extension": ".py",
      "codemirror_mode": {
        "name": "ipython",
        "version": 3
      },
      "name": "python",
      "mimetype": "text/x-python"
    },
    "colab": {
      "name": "flight delay prediction with Random forest model",
      "provenance": []
    }
  },
  "nbformat": 4,
  "nbformat_minor": 0
}